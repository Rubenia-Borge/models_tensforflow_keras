{
  "nbformat": 4,
  "nbformat_minor": 0,
  "metadata": {
    "colab": {
      "provenance": [],
      "collapsed_sections": []
    },
    "kernelspec": {
      "name": "python3",
      "display_name": "Python 3"
    },
    "language_info": {
      "name": "python"
    }
  },
  "cells": [
    {
      "cell_type": "markdown",
      "metadata": {
        "id": "-vYzi-pUzl75"
      },
      "source": [
        "#1. Importing Dataset"
      ]
    },
    {
      "cell_type": "code",
      "source": [
        "import tensorflow as tf\n",
        "print(\"TensorFlow version:\", tf.__version__)"
      ],
      "metadata": {
        "id": "pOP7tXa2K74N",
        "outputId": "ed980012-5e1e-49be-a3eb-5606ebe6d34e",
        "colab": {
          "base_uri": "https://localhost:8080/"
        }
      },
      "execution_count": 9,
      "outputs": [
        {
          "output_type": "stream",
          "name": "stdout",
          "text": [
            "TensorFlow version: 2.8.2\n"
          ]
        }
      ]
    },
    {
      "cell_type": "code",
      "metadata": {
        "id": "4Lex5_FLpZ1L"
      },
      "source": [
        "from keras.datasets import cifar10\n",
        "\n",
        "#tf.keras.datasets.fashion_mnist.load_data()\n",
        "\n",
        "#data = fashion_mnist.load_data()\n",
        "\n",
        "#tf.keras.datasets.cifar10.load_data()\n",
        "data = cifar10.load_data()"
      ],
      "execution_count": 10,
      "outputs": []
    },
    {
      "cell_type": "code",
      "metadata": {
        "colab": {
          "base_uri": "https://localhost:8080/"
        },
        "id": "3PtrRTxQqSbh",
        "outputId": "5387ef00-1546-41b8-94c2-c258599daa73"
      },
      "source": [
        "data\n",
        "\n",
        "type(data)"
      ],
      "execution_count": 11,
      "outputs": [
        {
          "output_type": "execute_result",
          "data": {
            "text/plain": [
              "tuple"
            ]
          },
          "metadata": {},
          "execution_count": 11
        }
      ]
    },
    {
      "cell_type": "markdown",
      "metadata": {
        "id": "tBCYhVzqzy5P"
      },
      "source": [
        "#2. Split the Dataset into Test and Train"
      ]
    },
    {
      "cell_type": "code",
      "metadata": {
        "id": "r5_lBQuwp7Wf"
      },
      "source": [
        "(X_train, y_train), (X_test, y_test) = data"
      ],
      "execution_count": 12,
      "outputs": []
    },
    {
      "cell_type": "code",
      "metadata": {
        "colab": {
          "base_uri": "https://localhost:8080/"
        },
        "id": "xKzCobHGqmK8",
        "outputId": "921b8f6d-4683-47b1-a069-d52bfccf4e9f"
      },
      "source": [
        "X_train[0].shape"
      ],
      "execution_count": 13,
      "outputs": [
        {
          "output_type": "execute_result",
          "data": {
            "text/plain": [
              "(32, 32, 3)"
            ]
          },
          "metadata": {},
          "execution_count": 13
        }
      ]
    },
    {
      "cell_type": "code",
      "metadata": {
        "colab": {
          "base_uri": "https://localhost:8080/"
        },
        "id": "k82_jVuFsRlL",
        "outputId": "4603115f-be1d-42cc-8d45-02b23eaa2fed"
      },
      "source": [
        "X_train.shape"
      ],
      "execution_count": 14,
      "outputs": [
        {
          "output_type": "execute_result",
          "data": {
            "text/plain": [
              "(50000, 32, 32, 3)"
            ]
          },
          "metadata": {},
          "execution_count": 14
        }
      ]
    },
    {
      "cell_type": "code",
      "metadata": {
        "id": "SnqJbvzlrP2R"
      },
      "source": [
        "X_train = X_train.reshape((X_train.shape[0], 3*32*32)).astype('float32')\n",
        "X_test = X_test.reshape((X_test.shape[0], 3*32*32)).astype('float32')"
      ],
      "execution_count": 16,
      "outputs": []
    },
    {
      "cell_type": "code",
      "metadata": {
        "id": "gyXFf2zurqFb"
      },
      "source": [
        "X_train = X_train / 255\n",
        "X_test = X_test / 255"
      ],
      "execution_count": 17,
      "outputs": []
    },
    {
      "cell_type": "code",
      "metadata": {
        "colab": {
          "base_uri": "https://localhost:8080/"
        },
        "id": "qp5_vm5Sr2cp",
        "outputId": "c89540be-6bfc-44ec-86bd-7fd3c871bc98"
      },
      "source": [
        "from keras.utils import np_utils\n",
        "\n",
        "print(y_test.shape)\n",
        "\n",
        "y_train = np_utils.to_categorical(y_train)\n",
        "y_test = np_utils.to_categorical(y_test)\n",
        "\n",
        "num_classes = y_test.shape[1]\n",
        "\n",
        "print(y_test.shape)"
      ],
      "execution_count": 18,
      "outputs": [
        {
          "output_type": "stream",
          "name": "stdout",
          "text": [
            "(10000, 1)\n",
            "(10000, 10)\n"
          ]
        }
      ]
    },
    {
      "cell_type": "markdown",
      "metadata": {
        "id": "scz1_vUWz_pb"
      },
      "source": [
        "#3. Model Building"
      ]
    },
    {
      "cell_type": "code",
      "metadata": {
        "id": "F-fUU4OoszeW"
      },
      "source": [
        "from keras.models import Sequential\n",
        "from keras.layers import Dense"
      ],
      "execution_count": 30,
      "outputs": []
    },
    {
      "cell_type": "code",
      "metadata": {
        "id": "q6th6CP0ti8X"
      },
      "source": [
        "model = Sequential()\n",
        "\n",
        "model.add(Dense(64, input_dim = 3 * 32 * 32, activation= 'relu'))\n",
        "\n",
        "model.add(Dense(128, activation = 'relu'))\n",
        "\n",
        "model.add(Dense(10, activation  = 'softmax'))"
      ],
      "execution_count": 42,
      "outputs": []
    },
    {
      "cell_type": "code",
      "metadata": {
        "id": "hulSizWzvJB3"
      },
      "source": [
        "model.compile(loss = 'categorical_crossentropy', optimizer = 'adam', metrics = ['accuracy'])"
      ],
      "execution_count": 43,
      "outputs": []
    },
    {
      "cell_type": "code",
      "metadata": {
        "colab": {
          "base_uri": "https://localhost:8080/"
        },
        "id": "JZ5p6XCVvW_0",
        "outputId": "561bf7e3-a9f7-4357-f980-e6ea31e62da3"
      },
      "source": [
        "model.summary()"
      ],
      "execution_count": 44,
      "outputs": [
        {
          "output_type": "stream",
          "name": "stdout",
          "text": [
            "Model: \"sequential_5\"\n",
            "_________________________________________________________________\n",
            " Layer (type)                Output Shape              Param #   \n",
            "=================================================================\n",
            " dense_15 (Dense)            (None, 64)                196672    \n",
            "                                                                 \n",
            " dense_16 (Dense)            (None, 128)               8320      \n",
            "                                                                 \n",
            " dense_17 (Dense)            (None, 10)                1290      \n",
            "                                                                 \n",
            "=================================================================\n",
            "Total params: 206,282\n",
            "Trainable params: 206,282\n",
            "Non-trainable params: 0\n",
            "_________________________________________________________________\n"
          ]
        }
      ]
    },
    {
      "cell_type": "markdown",
      "metadata": {
        "id": "pPMXokxP0G_c"
      },
      "source": [
        "#4. Train the model"
      ]
    },
    {
      "cell_type": "code",
      "metadata": {
        "colab": {
          "base_uri": "https://localhost:8080/"
        },
        "id": "ApCMy5DHvaXL",
        "outputId": "9b5570b6-5c4f-49dd-8fac-177e1896d5b7"
      },
      "source": [
        "model.fit(X_train, y_train, epochs= 20, batch_size = 100)"
      ],
      "execution_count": 45,
      "outputs": [
        {
          "output_type": "stream",
          "name": "stdout",
          "text": [
            "Epoch 1/20\n",
            "500/500 [==============================] - 4s 7ms/step - loss: 1.8790 - accuracy: 0.3173\n",
            "Epoch 2/20\n",
            "500/500 [==============================] - 3s 7ms/step - loss: 1.7040 - accuracy: 0.3913\n",
            "Epoch 3/20\n",
            "500/500 [==============================] - 3s 7ms/step - loss: 1.6487 - accuracy: 0.4094\n",
            "Epoch 4/20\n",
            "500/500 [==============================] - 3s 7ms/step - loss: 1.6084 - accuracy: 0.4260\n",
            "Epoch 5/20\n",
            "500/500 [==============================] - 3s 7ms/step - loss: 1.5710 - accuracy: 0.4370\n",
            "Epoch 6/20\n",
            "500/500 [==============================] - 3s 6ms/step - loss: 1.5469 - accuracy: 0.4506\n",
            "Epoch 7/20\n",
            "500/500 [==============================] - 3s 7ms/step - loss: 1.5245 - accuracy: 0.4571\n",
            "Epoch 8/20\n",
            "500/500 [==============================] - 3s 7ms/step - loss: 1.5089 - accuracy: 0.4619\n",
            "Epoch 9/20\n",
            "500/500 [==============================] - 3s 7ms/step - loss: 1.4952 - accuracy: 0.4664\n",
            "Epoch 10/20\n",
            "500/500 [==============================] - 3s 7ms/step - loss: 1.4804 - accuracy: 0.4727\n",
            "Epoch 11/20\n",
            "500/500 [==============================] - 3s 7ms/step - loss: 1.4725 - accuracy: 0.4726\n",
            "Epoch 12/20\n",
            "500/500 [==============================] - 3s 7ms/step - loss: 1.4583 - accuracy: 0.4796\n",
            "Epoch 13/20\n",
            "500/500 [==============================] - 3s 7ms/step - loss: 1.4490 - accuracy: 0.4798\n",
            "Epoch 14/20\n",
            "500/500 [==============================] - 3s 7ms/step - loss: 1.4451 - accuracy: 0.4849\n",
            "Epoch 15/20\n",
            "500/500 [==============================] - 3s 6ms/step - loss: 1.4332 - accuracy: 0.4871\n",
            "Epoch 16/20\n",
            "500/500 [==============================] - 4s 8ms/step - loss: 1.4267 - accuracy: 0.4892\n",
            "Epoch 17/20\n",
            "500/500 [==============================] - 3s 7ms/step - loss: 1.4187 - accuracy: 0.4914\n",
            "Epoch 18/20\n",
            "500/500 [==============================] - 3s 6ms/step - loss: 1.4114 - accuracy: 0.4965\n",
            "Epoch 19/20\n",
            "500/500 [==============================] - 3s 7ms/step - loss: 1.4033 - accuracy: 0.4978\n",
            "Epoch 20/20\n",
            "500/500 [==============================] - 4s 8ms/step - loss: 1.4007 - accuracy: 0.4985\n"
          ]
        },
        {
          "output_type": "execute_result",
          "data": {
            "text/plain": [
              "<keras.callbacks.History at 0x7fd852b745d0>"
            ]
          },
          "metadata": {},
          "execution_count": 45
        }
      ]
    },
    {
      "cell_type": "markdown",
      "metadata": {
        "id": "fZpCtAlK0Md_"
      },
      "source": [
        "#5. Predicting Accuracy"
      ]
    },
    {
      "cell_type": "code",
      "metadata": {
        "colab": {
          "base_uri": "https://localhost:8080/"
        },
        "id": "BjQQWGPAvp8X",
        "outputId": "6e347b2a-e7f6-498d-dc04-8874ce07e9f1"
      },
      "source": [
        "scores = model.evaluate(X_test, y_test)\n",
        "print('Accuracy: ',scores[1] * 100)"
      ],
      "execution_count": 46,
      "outputs": [
        {
          "output_type": "stream",
          "name": "stdout",
          "text": [
            "313/313 [==============================] - 1s 4ms/step - loss: 1.4794 - accuracy: 0.4692\n",
            "Accuracy:  46.91999852657318\n"
          ]
        }
      ]
    }
  ]
}