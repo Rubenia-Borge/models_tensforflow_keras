{
  "nbformat": 4,
  "nbformat_minor": 0,
  "metadata": {
    "colab": {
      "provenance": []
    },
    "kernelspec": {
      "name": "python3",
      "display_name": "Python 3"
    },
    "language_info": {
      "name": "python"
    }
  },
  "cells": [
    {
      "cell_type": "code",
      "execution_count": null,
      "metadata": {
        "id": "gU5E3H7bLKh2"
      },
      "outputs": [],
      "source": []
    },
    {
      "cell_type": "code",
      "source": [
        "import pandas as pd\n",
        "import numpy as np\n",
        "\n",
        "# Make numpy values easier to read.\n",
        "np.set_printoptions(precision=3, suppress=True)\n",
        "\n",
        "import tensorflow as tf\n",
        "from tensorflow.keras import layers"
      ],
      "metadata": {
        "id": "nvoLmXUILQ8S"
      },
      "execution_count": 1,
      "outputs": []
    },
    {
      "cell_type": "code",
      "source": [
        "abalone_train = pd.read_csv(\n",
        "    \"https://storage.googleapis.com/download.tensorflow.org/data/abalone_train.csv\",\n",
        "    names=[\"Length\", \"Diameter\", \"Height\", \"Whole weight\", \"Shucked weight\",\n",
        "           \"Viscera weight\", \"Shell weight\", \"Age\"])\n",
        "\n",
        "abalone_train.head()"
      ],
      "metadata": {
        "colab": {
          "base_uri": "https://localhost:8080/",
          "height": 206
        },
        "id": "YDDQjfoYLMj7",
        "outputId": "bd0362ac-fec4-4193-800d-3f45ec45db9a"
      },
      "execution_count": 2,
      "outputs": [
        {
          "output_type": "execute_result",
          "data": {
            "text/plain": [
              "   Length  Diameter  Height  Whole weight  Shucked weight  Viscera weight  \\\n",
              "0   0.435     0.335   0.110         0.334          0.1355          0.0775   \n",
              "1   0.585     0.450   0.125         0.874          0.3545          0.2075   \n",
              "2   0.655     0.510   0.160         1.092          0.3960          0.2825   \n",
              "3   0.545     0.425   0.125         0.768          0.2940          0.1495   \n",
              "4   0.545     0.420   0.130         0.879          0.3740          0.1695   \n",
              "\n",
              "   Shell weight  Age  \n",
              "0        0.0965    7  \n",
              "1        0.2250    6  \n",
              "2        0.3700   14  \n",
              "3        0.2600   16  \n",
              "4        0.2300   13  "
            ],
            "text/html": [
              "\n",
              "  <div id=\"df-0d51a403-253a-40bc-83fb-76dddf29cfa2\">\n",
              "    <div class=\"colab-df-container\">\n",
              "      <div>\n",
              "<style scoped>\n",
              "    .dataframe tbody tr th:only-of-type {\n",
              "        vertical-align: middle;\n",
              "    }\n",
              "\n",
              "    .dataframe tbody tr th {\n",
              "        vertical-align: top;\n",
              "    }\n",
              "\n",
              "    .dataframe thead th {\n",
              "        text-align: right;\n",
              "    }\n",
              "</style>\n",
              "<table border=\"1\" class=\"dataframe\">\n",
              "  <thead>\n",
              "    <tr style=\"text-align: right;\">\n",
              "      <th></th>\n",
              "      <th>Length</th>\n",
              "      <th>Diameter</th>\n",
              "      <th>Height</th>\n",
              "      <th>Whole weight</th>\n",
              "      <th>Shucked weight</th>\n",
              "      <th>Viscera weight</th>\n",
              "      <th>Shell weight</th>\n",
              "      <th>Age</th>\n",
              "    </tr>\n",
              "  </thead>\n",
              "  <tbody>\n",
              "    <tr>\n",
              "      <th>0</th>\n",
              "      <td>0.435</td>\n",
              "      <td>0.335</td>\n",
              "      <td>0.110</td>\n",
              "      <td>0.334</td>\n",
              "      <td>0.1355</td>\n",
              "      <td>0.0775</td>\n",
              "      <td>0.0965</td>\n",
              "      <td>7</td>\n",
              "    </tr>\n",
              "    <tr>\n",
              "      <th>1</th>\n",
              "      <td>0.585</td>\n",
              "      <td>0.450</td>\n",
              "      <td>0.125</td>\n",
              "      <td>0.874</td>\n",
              "      <td>0.3545</td>\n",
              "      <td>0.2075</td>\n",
              "      <td>0.2250</td>\n",
              "      <td>6</td>\n",
              "    </tr>\n",
              "    <tr>\n",
              "      <th>2</th>\n",
              "      <td>0.655</td>\n",
              "      <td>0.510</td>\n",
              "      <td>0.160</td>\n",
              "      <td>1.092</td>\n",
              "      <td>0.3960</td>\n",
              "      <td>0.2825</td>\n",
              "      <td>0.3700</td>\n",
              "      <td>14</td>\n",
              "    </tr>\n",
              "    <tr>\n",
              "      <th>3</th>\n",
              "      <td>0.545</td>\n",
              "      <td>0.425</td>\n",
              "      <td>0.125</td>\n",
              "      <td>0.768</td>\n",
              "      <td>0.2940</td>\n",
              "      <td>0.1495</td>\n",
              "      <td>0.2600</td>\n",
              "      <td>16</td>\n",
              "    </tr>\n",
              "    <tr>\n",
              "      <th>4</th>\n",
              "      <td>0.545</td>\n",
              "      <td>0.420</td>\n",
              "      <td>0.130</td>\n",
              "      <td>0.879</td>\n",
              "      <td>0.3740</td>\n",
              "      <td>0.1695</td>\n",
              "      <td>0.2300</td>\n",
              "      <td>13</td>\n",
              "    </tr>\n",
              "  </tbody>\n",
              "</table>\n",
              "</div>\n",
              "      <button class=\"colab-df-convert\" onclick=\"convertToInteractive('df-0d51a403-253a-40bc-83fb-76dddf29cfa2')\"\n",
              "              title=\"Convert this dataframe to an interactive table.\"\n",
              "              style=\"display:none;\">\n",
              "        \n",
              "  <svg xmlns=\"http://www.w3.org/2000/svg\" height=\"24px\"viewBox=\"0 0 24 24\"\n",
              "       width=\"24px\">\n",
              "    <path d=\"M0 0h24v24H0V0z\" fill=\"none\"/>\n",
              "    <path d=\"M18.56 5.44l.94 2.06.94-2.06 2.06-.94-2.06-.94-.94-2.06-.94 2.06-2.06.94zm-11 1L8.5 8.5l.94-2.06 2.06-.94-2.06-.94L8.5 2.5l-.94 2.06-2.06.94zm10 10l.94 2.06.94-2.06 2.06-.94-2.06-.94-.94-2.06-.94 2.06-2.06.94z\"/><path d=\"M17.41 7.96l-1.37-1.37c-.4-.4-.92-.59-1.43-.59-.52 0-1.04.2-1.43.59L10.3 9.45l-7.72 7.72c-.78.78-.78 2.05 0 2.83L4 21.41c.39.39.9.59 1.41.59.51 0 1.02-.2 1.41-.59l7.78-7.78 2.81-2.81c.8-.78.8-2.07 0-2.86zM5.41 20L4 18.59l7.72-7.72 1.47 1.35L5.41 20z\"/>\n",
              "  </svg>\n",
              "      </button>\n",
              "      \n",
              "  <style>\n",
              "    .colab-df-container {\n",
              "      display:flex;\n",
              "      flex-wrap:wrap;\n",
              "      gap: 12px;\n",
              "    }\n",
              "\n",
              "    .colab-df-convert {\n",
              "      background-color: #E8F0FE;\n",
              "      border: none;\n",
              "      border-radius: 50%;\n",
              "      cursor: pointer;\n",
              "      display: none;\n",
              "      fill: #1967D2;\n",
              "      height: 32px;\n",
              "      padding: 0 0 0 0;\n",
              "      width: 32px;\n",
              "    }\n",
              "\n",
              "    .colab-df-convert:hover {\n",
              "      background-color: #E2EBFA;\n",
              "      box-shadow: 0px 1px 2px rgba(60, 64, 67, 0.3), 0px 1px 3px 1px rgba(60, 64, 67, 0.15);\n",
              "      fill: #174EA6;\n",
              "    }\n",
              "\n",
              "    [theme=dark] .colab-df-convert {\n",
              "      background-color: #3B4455;\n",
              "      fill: #D2E3FC;\n",
              "    }\n",
              "\n",
              "    [theme=dark] .colab-df-convert:hover {\n",
              "      background-color: #434B5C;\n",
              "      box-shadow: 0px 1px 3px 1px rgba(0, 0, 0, 0.15);\n",
              "      filter: drop-shadow(0px 1px 2px rgba(0, 0, 0, 0.3));\n",
              "      fill: #FFFFFF;\n",
              "    }\n",
              "  </style>\n",
              "\n",
              "      <script>\n",
              "        const buttonEl =\n",
              "          document.querySelector('#df-0d51a403-253a-40bc-83fb-76dddf29cfa2 button.colab-df-convert');\n",
              "        buttonEl.style.display =\n",
              "          google.colab.kernel.accessAllowed ? 'block' : 'none';\n",
              "\n",
              "        async function convertToInteractive(key) {\n",
              "          const element = document.querySelector('#df-0d51a403-253a-40bc-83fb-76dddf29cfa2');\n",
              "          const dataTable =\n",
              "            await google.colab.kernel.invokeFunction('convertToInteractive',\n",
              "                                                     [key], {});\n",
              "          if (!dataTable) return;\n",
              "\n",
              "          const docLinkHtml = 'Like what you see? Visit the ' +\n",
              "            '<a target=\"_blank\" href=https://colab.research.google.com/notebooks/data_table.ipynb>data table notebook</a>'\n",
              "            + ' to learn more about interactive tables.';\n",
              "          element.innerHTML = '';\n",
              "          dataTable['output_type'] = 'display_data';\n",
              "          await google.colab.output.renderOutput(dataTable, element);\n",
              "          const docLink = document.createElement('div');\n",
              "          docLink.innerHTML = docLinkHtml;\n",
              "          element.appendChild(docLink);\n",
              "        }\n",
              "      </script>\n",
              "    </div>\n",
              "  </div>\n",
              "  "
            ]
          },
          "metadata": {},
          "execution_count": 2
        }
      ]
    },
    {
      "cell_type": "code",
      "source": [
        "abalone_features = abalone_train.copy()\n",
        "abalone_labels = abalone_features.pop('Age')"
      ],
      "metadata": {
        "id": "bVoLO4WcYbuL"
      },
      "execution_count": 3,
      "outputs": []
    },
    {
      "cell_type": "code",
      "source": [
        "normalize = layers.Normalization()"
      ],
      "metadata": {
        "id": "xHnkGWht0Fj8"
      },
      "execution_count": 4,
      "outputs": []
    },
    {
      "cell_type": "code",
      "source": [
        "normalize.adapt(abalone_features)"
      ],
      "metadata": {
        "id": "n7YE6zxH0KNc"
      },
      "execution_count": 5,
      "outputs": []
    },
    {
      "cell_type": "code",
      "source": [
        "norm_abalone_model = tf.keras.Sequential([\n",
        "  normalize,\n",
        "  layers.Dense(64),\n",
        "  layers.Dense(1)\n",
        "])\n",
        "\n",
        "norm_abalone_model.compile(loss = tf.keras.losses.MeanSquaredError(),\n",
        "                           optimizer = tf.keras.optimizers.Adam())\n",
        "\n",
        "norm_abalone_model.fit(abalone_features, abalone_labels, epochs=10)"
      ],
      "metadata": {
        "colab": {
          "base_uri": "https://localhost:8080/"
        },
        "id": "D_-Ff9Wb0KQ8",
        "outputId": "8b118f64-d57b-4964-ef2e-4b4957b61e1e"
      },
      "execution_count": 6,
      "outputs": [
        {
          "output_type": "stream",
          "name": "stdout",
          "text": [
            "Epoch 1/10\n",
            "104/104 [==============================] - 1s 2ms/step - loss: 92.9356\n",
            "Epoch 2/10\n",
            "104/104 [==============================] - 0s 2ms/step - loss: 54.6002\n",
            "Epoch 3/10\n",
            "104/104 [==============================] - 0s 2ms/step - loss: 16.7795\n",
            "Epoch 4/10\n",
            "104/104 [==============================] - 0s 2ms/step - loss: 5.7631\n",
            "Epoch 5/10\n",
            "104/104 [==============================] - 0s 2ms/step - loss: 4.9950\n",
            "Epoch 6/10\n",
            "104/104 [==============================] - 0s 2ms/step - loss: 4.9245\n",
            "Epoch 7/10\n",
            "104/104 [==============================] - 0s 2ms/step - loss: 4.9079\n",
            "Epoch 8/10\n",
            "104/104 [==============================] - 0s 2ms/step - loss: 4.8802\n",
            "Epoch 9/10\n",
            "104/104 [==============================] - 0s 2ms/step - loss: 4.9074\n",
            "Epoch 10/10\n",
            "104/104 [==============================] - 0s 2ms/step - loss: 4.8889\n"
          ]
        },
        {
          "output_type": "execute_result",
          "data": {
            "text/plain": [
              "<keras.callbacks.History at 0x7fad05a35ed0>"
            ]
          },
          "metadata": {},
          "execution_count": 6
        }
      ]
    },
    {
      "cell_type": "code",
      "source": [],
      "metadata": {
        "id": "-9xkzLOB0Kgk"
      },
      "execution_count": null,
      "outputs": []
    }
  ]
}