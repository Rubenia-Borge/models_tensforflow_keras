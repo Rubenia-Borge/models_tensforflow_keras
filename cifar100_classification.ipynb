{
  "nbformat": 4,
  "nbformat_minor": 0,
  "metadata": {
    "colab": {
      "provenance": [],
      "collapsed_sections": []
    },
    "kernelspec": {
      "name": "python3",
      "display_name": "Python 3"
    },
    "language_info": {
      "name": "python"
    }
  },
  "cells": [
    {
      "cell_type": "markdown",
      "metadata": {
        "id": "-vYzi-pUzl75"
      },
      "source": [
        "#1. Importing Dataset"
      ]
    },
    {
      "cell_type": "code",
      "source": [
        "import tensorflow as tf\n",
        "print(\"TensorFlow version:\", tf.__version__)"
      ],
      "metadata": {
        "id": "pOP7tXa2K74N",
        "outputId": "08ad9449-e77d-40f4-875e-ce1f93418f6b",
        "colab": {
          "base_uri": "https://localhost:8080/"
        }
      },
      "execution_count": 1,
      "outputs": [
        {
          "output_type": "stream",
          "name": "stdout",
          "text": [
            "TensorFlow version: 2.8.2\n"
          ]
        }
      ]
    },
    {
      "cell_type": "code",
      "metadata": {
        "id": "4Lex5_FLpZ1L",
        "colab": {
          "base_uri": "https://localhost:8080/"
        },
        "outputId": "6f52a727-9a98-4bed-cc3e-233f0f7f117e"
      },
      "source": [
        "from keras.datasets import cifar100\n",
        "\n",
        "#tf.keras.datasets.fashion_mnist.load_data()\n",
        "\n",
        "#data = fashion_mnist.load_data()\n",
        "\n",
        "#tf.keras.datasets.cifar10.load_data()\n",
        "\n",
        "#tf.keras.datasets.cifar100.load_data(label_mode=\"fine\")\n",
        "data = cifar100.load_data()"
      ],
      "execution_count": 2,
      "outputs": [
        {
          "output_type": "stream",
          "name": "stdout",
          "text": [
            "Downloading data from https://www.cs.toronto.edu/~kriz/cifar-100-python.tar.gz\n",
            "169009152/169001437 [==============================] - 6s 0us/step\n",
            "169017344/169001437 [==============================] - 6s 0us/step\n"
          ]
        }
      ]
    },
    {
      "cell_type": "code",
      "metadata": {
        "colab": {
          "base_uri": "https://localhost:8080/"
        },
        "id": "3PtrRTxQqSbh",
        "outputId": "1b9dcc05-b1e5-4e45-a293-80be95afc514"
      },
      "source": [
        "data\n",
        "\n",
        "type(data)"
      ],
      "execution_count": 3,
      "outputs": [
        {
          "output_type": "execute_result",
          "data": {
            "text/plain": [
              "tuple"
            ]
          },
          "metadata": {},
          "execution_count": 3
        }
      ]
    },
    {
      "cell_type": "markdown",
      "metadata": {
        "id": "tBCYhVzqzy5P"
      },
      "source": [
        "#2. Split the Dataset into Test and Train"
      ]
    },
    {
      "cell_type": "code",
      "metadata": {
        "id": "r5_lBQuwp7Wf"
      },
      "source": [
        "(X_train, y_train), (X_test, y_test) = data"
      ],
      "execution_count": 4,
      "outputs": []
    },
    {
      "cell_type": "code",
      "metadata": {
        "colab": {
          "base_uri": "https://localhost:8080/"
        },
        "id": "xKzCobHGqmK8",
        "outputId": "fe02a596-c06b-4be8-e56d-ca602c96016b"
      },
      "source": [
        "X_train[0].shape"
      ],
      "execution_count": 5,
      "outputs": [
        {
          "output_type": "execute_result",
          "data": {
            "text/plain": [
              "(32, 32, 3)"
            ]
          },
          "metadata": {},
          "execution_count": 5
        }
      ]
    },
    {
      "cell_type": "code",
      "metadata": {
        "colab": {
          "base_uri": "https://localhost:8080/"
        },
        "id": "k82_jVuFsRlL",
        "outputId": "eb4155e1-3059-4547-bfd0-8c1c0be60d2f"
      },
      "source": [
        "X_train.shape"
      ],
      "execution_count": 6,
      "outputs": [
        {
          "output_type": "execute_result",
          "data": {
            "text/plain": [
              "(50000, 32, 32, 3)"
            ]
          },
          "metadata": {},
          "execution_count": 6
        }
      ]
    },
    {
      "cell_type": "code",
      "metadata": {
        "id": "SnqJbvzlrP2R"
      },
      "source": [
        "X_train = X_train.reshape((X_train.shape[0], 3*32*32)).astype('float32')\n",
        "X_test = X_test.reshape((X_test.shape[0], 3*32*32)).astype('float32')"
      ],
      "execution_count": 7,
      "outputs": []
    },
    {
      "cell_type": "code",
      "metadata": {
        "id": "gyXFf2zurqFb"
      },
      "source": [
        "X_train = X_train / 255\n",
        "X_test = X_test / 255"
      ],
      "execution_count": 8,
      "outputs": []
    },
    {
      "cell_type": "code",
      "metadata": {
        "colab": {
          "base_uri": "https://localhost:8080/"
        },
        "id": "qp5_vm5Sr2cp",
        "outputId": "d2a18192-1767-4f15-ba09-21d1186b7e54"
      },
      "source": [
        "from keras.utils import np_utils\n",
        "\n",
        "print(y_test.shape)\n",
        "\n",
        "y_train = np_utils.to_categorical(y_train)\n",
        "y_test = np_utils.to_categorical(y_test)\n",
        "\n",
        "num_classes = y_test.shape[1]\n",
        "\n",
        "print(y_test.shape)"
      ],
      "execution_count": 9,
      "outputs": [
        {
          "output_type": "stream",
          "name": "stdout",
          "text": [
            "(10000, 1)\n",
            "(10000, 100)\n"
          ]
        }
      ]
    },
    {
      "cell_type": "markdown",
      "metadata": {
        "id": "scz1_vUWz_pb"
      },
      "source": [
        "#3. Model Building"
      ]
    },
    {
      "cell_type": "code",
      "metadata": {
        "id": "F-fUU4OoszeW"
      },
      "source": [
        "from keras.models import Sequential\n",
        "from keras.layers import Dense"
      ],
      "execution_count": 10,
      "outputs": []
    },
    {
      "cell_type": "code",
      "metadata": {
        "id": "q6th6CP0ti8X"
      },
      "source": [
        "model = Sequential()\n",
        "\n",
        "model.add(Dense(64, input_dim = 3 * 32 * 32, activation= 'relu'))\n",
        "\n",
        "model.add(Dense(128, activation = 'relu'))\n",
        "\n",
        "model.add(Dense(100, activation  = 'softmax'))"
      ],
      "execution_count": 15,
      "outputs": []
    },
    {
      "cell_type": "code",
      "metadata": {
        "id": "hulSizWzvJB3"
      },
      "source": [
        "model.compile(loss = 'categorical_crossentropy', optimizer = 'adam', metrics = ['accuracy'])"
      ],
      "execution_count": 16,
      "outputs": []
    },
    {
      "cell_type": "code",
      "metadata": {
        "colab": {
          "base_uri": "https://localhost:8080/"
        },
        "id": "JZ5p6XCVvW_0",
        "outputId": "4f9977f0-2473-4eb0-a24e-c441b0bbaa01"
      },
      "source": [
        "model.summary()"
      ],
      "execution_count": 17,
      "outputs": [
        {
          "output_type": "stream",
          "name": "stdout",
          "text": [
            "Model: \"sequential_1\"\n",
            "_________________________________________________________________\n",
            " Layer (type)                Output Shape              Param #   \n",
            "=================================================================\n",
            " dense_3 (Dense)             (None, 64)                196672    \n",
            "                                                                 \n",
            " dense_4 (Dense)             (None, 128)               8320      \n",
            "                                                                 \n",
            " dense_5 (Dense)             (None, 100)               12900     \n",
            "                                                                 \n",
            "=================================================================\n",
            "Total params: 217,892\n",
            "Trainable params: 217,892\n",
            "Non-trainable params: 0\n",
            "_________________________________________________________________\n"
          ]
        }
      ]
    },
    {
      "cell_type": "markdown",
      "metadata": {
        "id": "pPMXokxP0G_c"
      },
      "source": [
        "#4. Train the model"
      ]
    },
    {
      "cell_type": "code",
      "metadata": {
        "colab": {
          "base_uri": "https://localhost:8080/"
        },
        "id": "ApCMy5DHvaXL",
        "outputId": "924440c2-5593-481f-d35d-726fd3218ed9"
      },
      "source": [
        "model.fit(X_train, y_train, epochs= 20, batch_size = 100)"
      ],
      "execution_count": 18,
      "outputs": [
        {
          "output_type": "stream",
          "name": "stdout",
          "text": [
            "Epoch 1/20\n",
            "500/500 [==============================] - 4s 7ms/step - loss: 4.1839 - accuracy: 0.0577\n",
            "Epoch 2/20\n",
            "500/500 [==============================] - 4s 7ms/step - loss: 3.9196 - accuracy: 0.0905\n",
            "Epoch 3/20\n",
            "500/500 [==============================] - 3s 7ms/step - loss: 3.8389 - accuracy: 0.1029\n",
            "Epoch 4/20\n",
            "500/500 [==============================] - 3s 7ms/step - loss: 3.7910 - accuracy: 0.1099\n",
            "Epoch 5/20\n",
            "500/500 [==============================] - 3s 7ms/step - loss: 3.7588 - accuracy: 0.1140\n",
            "Epoch 6/20\n",
            "500/500 [==============================] - 3s 6ms/step - loss: 3.7328 - accuracy: 0.1190\n",
            "Epoch 7/20\n",
            "500/500 [==============================] - 3s 7ms/step - loss: 3.7104 - accuracy: 0.1221\n",
            "Epoch 8/20\n",
            "500/500 [==============================] - 3s 6ms/step - loss: 3.6910 - accuracy: 0.1266\n",
            "Epoch 9/20\n",
            "500/500 [==============================] - 3s 6ms/step - loss: 3.6777 - accuracy: 0.1285\n",
            "Epoch 10/20\n",
            "500/500 [==============================] - 3s 6ms/step - loss: 3.6641 - accuracy: 0.1299\n",
            "Epoch 11/20\n",
            "500/500 [==============================] - 3s 6ms/step - loss: 3.6532 - accuracy: 0.1305\n",
            "Epoch 12/20\n",
            "500/500 [==============================] - 3s 7ms/step - loss: 3.6394 - accuracy: 0.1328\n",
            "Epoch 13/20\n",
            "500/500 [==============================] - 3s 6ms/step - loss: 3.6286 - accuracy: 0.1336\n",
            "Epoch 14/20\n",
            "500/500 [==============================] - 3s 6ms/step - loss: 3.6203 - accuracy: 0.1362\n",
            "Epoch 15/20\n",
            "500/500 [==============================] - 3s 6ms/step - loss: 3.6162 - accuracy: 0.1379\n",
            "Epoch 16/20\n",
            "500/500 [==============================] - 3s 7ms/step - loss: 3.6056 - accuracy: 0.1397\n",
            "Epoch 17/20\n",
            "500/500 [==============================] - 3s 6ms/step - loss: 3.6024 - accuracy: 0.1397\n",
            "Epoch 18/20\n",
            "500/500 [==============================] - 3s 6ms/step - loss: 3.5936 - accuracy: 0.1413\n",
            "Epoch 19/20\n",
            "500/500 [==============================] - 3s 6ms/step - loss: 3.5898 - accuracy: 0.1392\n",
            "Epoch 20/20\n",
            "500/500 [==============================] - 3s 6ms/step - loss: 3.5876 - accuracy: 0.1405\n"
          ]
        },
        {
          "output_type": "execute_result",
          "data": {
            "text/plain": [
              "<keras.callbacks.History at 0x7f949939df50>"
            ]
          },
          "metadata": {},
          "execution_count": 18
        }
      ]
    },
    {
      "cell_type": "markdown",
      "metadata": {
        "id": "fZpCtAlK0Md_"
      },
      "source": [
        "#5. Predicting Accuracy"
      ]
    },
    {
      "cell_type": "code",
      "metadata": {
        "colab": {
          "base_uri": "https://localhost:8080/"
        },
        "id": "BjQQWGPAvp8X",
        "outputId": "019829bd-3bd0-4fc9-edfe-cf4e54a8d2c5"
      },
      "source": [
        "scores = model.evaluate(X_test, y_test)\n",
        "print('Accuracy: ',scores[1] * 100)"
      ],
      "execution_count": 19,
      "outputs": [
        {
          "output_type": "stream",
          "name": "stdout",
          "text": [
            "313/313 [==============================] - 1s 2ms/step - loss: 3.6478 - accuracy: 0.1361\n",
            "Accuracy:  13.609999418258667\n"
          ]
        }
      ]
    }
  ]
}