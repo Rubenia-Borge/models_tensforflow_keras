{
  "nbformat": 4,
  "nbformat_minor": 0,
  "metadata": {
    "colab": {
      "provenance": []
    },
    "kernelspec": {
      "name": "python3",
      "display_name": "Python 3"
    },
    "language_info": {
      "name": "python"
    }
  },
  "cells": [
    {
      "cell_type": "code",
      "execution_count": null,
      "metadata": {
        "id": "cgj5fgVl4-5i"
      },
      "outputs": [],
      "source": []
    },
    {
      "cell_type": "code",
      "source": [
        "import numpy as np\n",
        "from tensorflow import keras\n",
        "from tensorflow.keras import layers"
      ],
      "metadata": {
        "id": "eryNquDL5Mri"
      },
      "execution_count": 1,
      "outputs": []
    },
    {
      "cell_type": "code",
      "source": [
        "# Model / data parameters\n",
        "num_classes = 10\n",
        "input_shape = (28, 28, 1)\n",
        "\n",
        "# Load the data and split it between train and test sets\n",
        "(x_train, y_train), (x_test, y_test) = keras.datasets.mnist.load_data()\n",
        "\n",
        "# Scale images to the [0, 1] range\n",
        "x_train = x_train.astype(\"float32\") / 255\n",
        "x_test = x_test.astype(\"float32\") / 255\n",
        "# Make sure images have shape (28, 28, 1)\n",
        "x_train = np.expand_dims(x_train, -1)\n",
        "x_test = np.expand_dims(x_test, -1)\n",
        "print(\"x_train shape:\", x_train.shape)\n",
        "print(x_train.shape[0], \"train samples\")\n",
        "print(x_test.shape[0], \"test samples\")\n",
        "\n",
        "\n",
        "# convert class vectors to binary class matrices\n",
        "y_train = keras.utils.to_categorical(y_train, num_classes)\n",
        "y_test = keras.utils.to_categorical(y_test, num_classes)"
      ],
      "metadata": {
        "colab": {
          "base_uri": "https://localhost:8080/"
        },
        "id": "DfZkAn8c5RJB",
        "outputId": "35124f0f-6765-4b04-cf47-527afada8e58"
      },
      "execution_count": 2,
      "outputs": [
        {
          "output_type": "stream",
          "name": "stdout",
          "text": [
            "Downloading data from https://storage.googleapis.com/tensorflow/tf-keras-datasets/mnist.npz\n",
            "11493376/11490434 [==============================] - 0s 0us/step\n",
            "11501568/11490434 [==============================] - 0s 0us/step\n",
            "x_train shape: (60000, 28, 28, 1)\n",
            "60000 train samples\n",
            "10000 test samples\n"
          ]
        }
      ]
    },
    {
      "cell_type": "code",
      "source": [
        "model = keras.Sequential(\n",
        "    [\n",
        "        keras.Input(shape=input_shape),\n",
        "        layers.Conv2D(32, kernel_size=(3, 3), activation=\"relu\"),\n",
        "        layers.MaxPooling2D(pool_size=(2, 2)),\n",
        "        layers.Conv2D(64, kernel_size=(3, 3), activation=\"relu\"),\n",
        "        layers.MaxPooling2D(pool_size=(2, 2)),\n",
        "        layers.Flatten(),\n",
        "        layers.Dropout(0.5),\n",
        "        layers.Dense(num_classes, activation=\"softmax\"),\n",
        "    ]\n",
        ")\n",
        "\n",
        "model.summary()"
      ],
      "metadata": {
        "colab": {
          "base_uri": "https://localhost:8080/"
        },
        "id": "2B7uka3A5c9U",
        "outputId": "3b3d5743-b3a3-43af-e56c-51e292978363"
      },
      "execution_count": 3,
      "outputs": [
        {
          "output_type": "stream",
          "name": "stdout",
          "text": [
            "Model: \"sequential\"\n",
            "_________________________________________________________________\n",
            " Layer (type)                Output Shape              Param #   \n",
            "=================================================================\n",
            " conv2d (Conv2D)             (None, 26, 26, 32)        320       \n",
            "                                                                 \n",
            " max_pooling2d (MaxPooling2D  (None, 13, 13, 32)       0         \n",
            " )                                                               \n",
            "                                                                 \n",
            " conv2d_1 (Conv2D)           (None, 11, 11, 64)        18496     \n",
            "                                                                 \n",
            " max_pooling2d_1 (MaxPooling  (None, 5, 5, 64)         0         \n",
            " 2D)                                                             \n",
            "                                                                 \n",
            " flatten (Flatten)           (None, 1600)              0         \n",
            "                                                                 \n",
            " dropout (Dropout)           (None, 1600)              0         \n",
            "                                                                 \n",
            " dense (Dense)               (None, 10)                16010     \n",
            "                                                                 \n",
            "=================================================================\n",
            "Total params: 34,826\n",
            "Trainable params: 34,826\n",
            "Non-trainable params: 0\n",
            "_________________________________________________________________\n"
          ]
        }
      ]
    },
    {
      "cell_type": "code",
      "source": [
        "batch_size = 128\n",
        "epochs = 15\n",
        "\n",
        "model.compile(loss=\"categorical_crossentropy\", optimizer=\"adam\", metrics=[\"accuracy\"])\n",
        "\n",
        "model.fit(x_train, y_train, batch_size=batch_size, epochs=epochs, validation_split=0.1)"
      ],
      "metadata": {
        "colab": {
          "base_uri": "https://localhost:8080/"
        },
        "id": "n0MzUUGI8HQa",
        "outputId": "d9d2d29b-67ff-418c-ddda-1d0ffc15166c"
      },
      "execution_count": 5,
      "outputs": [
        {
          "output_type": "stream",
          "name": "stdout",
          "text": [
            "Epoch 1/15\n",
            "422/422 [==============================] - 43s 100ms/step - loss: 0.3785 - accuracy: 0.8859 - val_loss: 0.0829 - val_accuracy: 0.9778\n",
            "Epoch 2/15\n",
            "422/422 [==============================] - 43s 101ms/step - loss: 0.1085 - accuracy: 0.9666 - val_loss: 0.0550 - val_accuracy: 0.9858\n",
            "Epoch 3/15\n",
            "422/422 [==============================] - 42s 99ms/step - loss: 0.0854 - accuracy: 0.9744 - val_loss: 0.0513 - val_accuracy: 0.9858\n",
            "Epoch 4/15\n",
            "422/422 [==============================] - 41s 98ms/step - loss: 0.0692 - accuracy: 0.9787 - val_loss: 0.0404 - val_accuracy: 0.9888\n",
            "Epoch 5/15\n",
            "422/422 [==============================] - 42s 99ms/step - loss: 0.0619 - accuracy: 0.9805 - val_loss: 0.0398 - val_accuracy: 0.9888\n",
            "Epoch 6/15\n",
            "422/422 [==============================] - 43s 102ms/step - loss: 0.0547 - accuracy: 0.9828 - val_loss: 0.0358 - val_accuracy: 0.9903\n",
            "Epoch 7/15\n",
            "422/422 [==============================] - 41s 98ms/step - loss: 0.0510 - accuracy: 0.9839 - val_loss: 0.0349 - val_accuracy: 0.9903\n",
            "Epoch 8/15\n",
            "422/422 [==============================] - 41s 98ms/step - loss: 0.0462 - accuracy: 0.9852 - val_loss: 0.0322 - val_accuracy: 0.9915\n",
            "Epoch 9/15\n",
            "422/422 [==============================] - 41s 98ms/step - loss: 0.0435 - accuracy: 0.9863 - val_loss: 0.0345 - val_accuracy: 0.9895\n",
            "Epoch 10/15\n",
            "422/422 [==============================] - 43s 101ms/step - loss: 0.0406 - accuracy: 0.9869 - val_loss: 0.0310 - val_accuracy: 0.9923\n",
            "Epoch 11/15\n",
            "422/422 [==============================] - 41s 98ms/step - loss: 0.0389 - accuracy: 0.9875 - val_loss: 0.0333 - val_accuracy: 0.9900\n",
            "Epoch 12/15\n",
            "422/422 [==============================] - 42s 98ms/step - loss: 0.0364 - accuracy: 0.9886 - val_loss: 0.0334 - val_accuracy: 0.9912\n",
            "Epoch 13/15\n",
            "422/422 [==============================] - 41s 98ms/step - loss: 0.0360 - accuracy: 0.9882 - val_loss: 0.0293 - val_accuracy: 0.9928\n",
            "Epoch 14/15\n",
            "422/422 [==============================] - 43s 101ms/step - loss: 0.0325 - accuracy: 0.9893 - val_loss: 0.0316 - val_accuracy: 0.9915\n",
            "Epoch 15/15\n",
            "422/422 [==============================] - 41s 97ms/step - loss: 0.0336 - accuracy: 0.9891 - val_loss: 0.0313 - val_accuracy: 0.9912\n"
          ]
        },
        {
          "output_type": "execute_result",
          "data": {
            "text/plain": [
              "<keras.callbacks.History at 0x7fb701fec7d0>"
            ]
          },
          "metadata": {},
          "execution_count": 5
        }
      ]
    },
    {
      "cell_type": "code",
      "source": [
        "score = model.evaluate(x_test, y_test, verbose=0)\n",
        "print(\"Test loss:\", score[0])\n",
        "print(\"Test accuracy:\", score[1])"
      ],
      "metadata": {
        "colab": {
          "base_uri": "https://localhost:8080/"
        },
        "id": "3b9tEDA65iD5",
        "outputId": "f367228f-5328-4ae0-dc50-04d647713cbf"
      },
      "execution_count": 6,
      "outputs": [
        {
          "output_type": "stream",
          "name": "stdout",
          "text": [
            "Test loss: 0.02588479593396187\n",
            "Test accuracy: 0.991100013256073\n"
          ]
        }
      ]
    }
  ]
}