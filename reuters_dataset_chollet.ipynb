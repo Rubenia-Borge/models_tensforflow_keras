{
  "nbformat": 4,
  "nbformat_minor": 0,
  "metadata": {
    "colab": {
      "provenance": []
    },
    "kernelspec": {
      "name": "python3",
      "display_name": "Python 3"
    },
    "language_info": {
      "name": "python"
    }
  },
  "cells": [
    {
      "cell_type": "code",
      "source": [
        "import tensorflow as tf\n",
        "tf.__version__\n",
        "from tensorflow import keras\n",
        "\n",
        "\n",
        "from tensorflow.keras import layers"
      ],
      "metadata": {
        "id": "lEHNE31xlS-Y"
      },
      "execution_count": 85,
      "outputs": []
    },
    {
      "cell_type": "code",
      "source": [
        "from tensorflow.keras.datasets import reuters\n",
        "(train_data, train_labels), (test_data, test_labels) = reuters.load_data(\n",
        "    num_words=10000)"
      ],
      "metadata": {
        "id": "SQyNTPYWlTP5"
      },
      "execution_count": 86,
      "outputs": []
    },
    {
      "cell_type": "code",
      "source": [
        "print(len(train_data))\n",
        "\n",
        "print(len(test_data))\n"
      ],
      "metadata": {
        "colab": {
          "base_uri": "https://localhost:8080/"
        },
        "id": "0izpNxiirDLH",
        "outputId": "c97a9df6-89a7-43c9-9087-cd1e819134c7"
      },
      "execution_count": 87,
      "outputs": [
        {
          "output_type": "stream",
          "name": "stdout",
          "text": [
            "8982\n",
            "2246\n"
          ]
        }
      ]
    },
    {
      "cell_type": "code",
      "source": [
        "train_data[10]\n"
      ],
      "metadata": {
        "colab": {
          "base_uri": "https://localhost:8080/"
        },
        "id": "4tumKVVgrPyD",
        "outputId": "1390d5a0-e27a-4a03-b2cf-7ecc69768a69"
      },
      "execution_count": 88,
      "outputs": [
        {
          "output_type": "execute_result",
          "data": {
            "text/plain": [
              "[1,\n",
              " 245,\n",
              " 273,\n",
              " 207,\n",
              " 156,\n",
              " 53,\n",
              " 74,\n",
              " 160,\n",
              " 26,\n",
              " 14,\n",
              " 46,\n",
              " 296,\n",
              " 26,\n",
              " 39,\n",
              " 74,\n",
              " 2979,\n",
              " 3554,\n",
              " 14,\n",
              " 46,\n",
              " 4689,\n",
              " 4329,\n",
              " 86,\n",
              " 61,\n",
              " 3499,\n",
              " 4795,\n",
              " 14,\n",
              " 61,\n",
              " 451,\n",
              " 4329,\n",
              " 17,\n",
              " 12]"
            ]
          },
          "metadata": {},
          "execution_count": 88
        }
      ]
    },
    {
      "cell_type": "code",
      "source": [
        "word_index = reuters.get_word_index()\n",
        "reverse_word_index = dict(\n",
        "    [(value, key) for (key, value) in word_index.items()])\n",
        "decoded_newswire = \" \".join(\n",
        "    [reverse_word_index.get(i - 3, \"?\") for i in     train_data[0]])"
      ],
      "metadata": {
        "id": "XraP6MC2rWSy"
      },
      "execution_count": 89,
      "outputs": []
    },
    {
      "cell_type": "code",
      "source": [
        "train_labels[10]\n"
      ],
      "metadata": {
        "colab": {
          "base_uri": "https://localhost:8080/"
        },
        "id": "u3GnXBrYraRv",
        "outputId": "e4ba5f30-f6d4-4a1d-8a64-5206e1413378"
      },
      "execution_count": 90,
      "outputs": [
        {
          "output_type": "execute_result",
          "data": {
            "text/plain": [
              "3"
            ]
          },
          "metadata": {},
          "execution_count": 90
        }
      ]
    },
    {
      "cell_type": "code",
      "source": [
        "import numpy as np \n",
        "def vectorize_sequences(sequences, dimension=10000): \n",
        "    results = np.zeros((len(sequences), dimension))\n",
        "    for i, sequence in enumerate(sequences):\n",
        "        for j in sequence:\n",
        "            results[i, j] = 1.\n",
        "    return results\n",
        "x_train = vectorize_sequences(train_data)\n",
        "x_test = vectorize_sequences(test_data)"
      ],
      "metadata": {
        "id": "jfVljn36rzPN"
      },
      "execution_count": 91,
      "outputs": []
    },
    {
      "cell_type": "code",
      "source": [
        "def to_one_hot(labels, dimension=46):\n",
        "    results = np.zeros((len(labels), dimension))\n",
        "    for i, label in enumerate(labels):\n",
        "        results[i, label] = 1. \n",
        "    return results\n",
        "y_train = to_one_hot(train_labels)\n",
        "y_test = to_one_hot(test_labels)"
      ],
      "metadata": {
        "id": "3kra0hwAsEUJ"
      },
      "execution_count": 92,
      "outputs": []
    },
    {
      "cell_type": "code",
      "source": [
        "from tensorflow.keras.utils import to_categorical\n",
        "y_train = to_categorical(train_labels)\n",
        "y_test = to_categorical(test_labels)"
      ],
      "metadata": {
        "id": "lS4mTnnEsGNt"
      },
      "execution_count": 93,
      "outputs": []
    },
    {
      "cell_type": "code",
      "source": [
        "from tensorflow import keras\n"
      ],
      "metadata": {
        "id": "2yMcEOarseki"
      },
      "execution_count": 94,
      "outputs": []
    },
    {
      "cell_type": "code",
      "source": [
        "model = keras.Sequential([\n",
        "    layers.Dense(64, activation=\"relu\"),\n",
        "    layers.Dense(64, activation=\"relu\"),\n",
        "    layers.Dense(46, activation=\"softmax\")\n",
        "])"
      ],
      "metadata": {
        "id": "AsEd9bersIoF"
      },
      "execution_count": 95,
      "outputs": []
    },
    {
      "cell_type": "code",
      "source": [
        "model.compile(optimizer=\"rmsprop\",\n",
        "              loss=\"categorical_crossentropy\",\n",
        "              metrics=[\"accuracy\"])"
      ],
      "metadata": {
        "id": "rmGsKGkQtZv8"
      },
      "execution_count": 96,
      "outputs": []
    },
    {
      "cell_type": "code",
      "source": [
        "x_val = x_train[:1000]\n",
        "partial_x_train = x_train[1000:]\n",
        "y_val = y_train[:1000]\n",
        "partial_y_train = y_train[1000:]"
      ],
      "metadata": {
        "id": "3ZW1iG3btgLh"
      },
      "execution_count": 97,
      "outputs": []
    },
    {
      "cell_type": "code",
      "source": [
        "history = model.fit(partial_x_train,\n",
        "                    partial_y_train,\n",
        "                    epochs=20,\n",
        "                    batch_size=512,\n",
        "                    validation_data=(x_val, y_val))"
      ],
      "metadata": {
        "colab": {
          "base_uri": "https://localhost:8080/"
        },
        "id": "xiRR5r_MtnvR",
        "outputId": "8bb4e481-9335-46e8-fc65-42615ee9c492"
      },
      "execution_count": 99,
      "outputs": [
        {
          "output_type": "stream",
          "name": "stdout",
          "text": [
            "Epoch 1/20\n",
            "16/16 [==============================] - 1s 53ms/step - loss: 0.1098 - accuracy: 0.9569 - val_loss: 1.0665 - val_accuracy: 0.8090\n",
            "Epoch 2/20\n",
            "16/16 [==============================] - 1s 50ms/step - loss: 0.1110 - accuracy: 0.9570 - val_loss: 1.1613 - val_accuracy: 0.8090\n",
            "Epoch 3/20\n",
            "16/16 [==============================] - 1s 50ms/step - loss: 0.1076 - accuracy: 0.9568 - val_loss: 1.1365 - val_accuracy: 0.8070\n",
            "Epoch 4/20\n",
            "16/16 [==============================] - 1s 51ms/step - loss: 0.1035 - accuracy: 0.9568 - val_loss: 1.0615 - val_accuracy: 0.8100\n",
            "Epoch 5/20\n",
            "16/16 [==============================] - 1s 50ms/step - loss: 0.1033 - accuracy: 0.9578 - val_loss: 1.1965 - val_accuracy: 0.7880\n",
            "Epoch 6/20\n",
            "16/16 [==============================] - 1s 50ms/step - loss: 0.0983 - accuracy: 0.9583 - val_loss: 1.1286 - val_accuracy: 0.7980\n",
            "Epoch 7/20\n",
            "16/16 [==============================] - 1s 51ms/step - loss: 0.1028 - accuracy: 0.9574 - val_loss: 1.1953 - val_accuracy: 0.7930\n",
            "Epoch 8/20\n",
            "16/16 [==============================] - 1s 50ms/step - loss: 0.1007 - accuracy: 0.9572 - val_loss: 1.1990 - val_accuracy: 0.8030\n",
            "Epoch 9/20\n",
            "16/16 [==============================] - 1s 50ms/step - loss: 0.0949 - accuracy: 0.9578 - val_loss: 1.2181 - val_accuracy: 0.7990\n",
            "Epoch 10/20\n",
            "16/16 [==============================] - 1s 59ms/step - loss: 0.1011 - accuracy: 0.9569 - val_loss: 1.2028 - val_accuracy: 0.8020\n",
            "Epoch 11/20\n",
            "16/16 [==============================] - 1s 56ms/step - loss: 0.0956 - accuracy: 0.9579 - val_loss: 1.2815 - val_accuracy: 0.7820\n",
            "Epoch 12/20\n",
            "16/16 [==============================] - 1s 50ms/step - loss: 0.0958 - accuracy: 0.9588 - val_loss: 1.2293 - val_accuracy: 0.7960\n",
            "Epoch 13/20\n",
            "16/16 [==============================] - 1s 52ms/step - loss: 0.0957 - accuracy: 0.9597 - val_loss: 1.1916 - val_accuracy: 0.8000\n",
            "Epoch 14/20\n",
            "16/16 [==============================] - 1s 65ms/step - loss: 0.0933 - accuracy: 0.9572 - val_loss: 1.1734 - val_accuracy: 0.8000\n",
            "Epoch 15/20\n",
            "16/16 [==============================] - 1s 50ms/step - loss: 0.0953 - accuracy: 0.9590 - val_loss: 1.3195 - val_accuracy: 0.7830\n",
            "Epoch 16/20\n",
            "16/16 [==============================] - 1s 49ms/step - loss: 0.0946 - accuracy: 0.9572 - val_loss: 1.2153 - val_accuracy: 0.8010\n",
            "Epoch 17/20\n",
            "16/16 [==============================] - 1s 50ms/step - loss: 0.0898 - accuracy: 0.9585 - val_loss: 1.1918 - val_accuracy: 0.8050\n",
            "Epoch 18/20\n",
            "16/16 [==============================] - 1s 50ms/step - loss: 0.0922 - accuracy: 0.9592 - val_loss: 1.3088 - val_accuracy: 0.7950\n",
            "Epoch 19/20\n",
            "16/16 [==============================] - 1s 50ms/step - loss: 0.0925 - accuracy: 0.9590 - val_loss: 1.2928 - val_accuracy: 0.7930\n",
            "Epoch 20/20\n",
            "16/16 [==============================] - 1s 50ms/step - loss: 0.0880 - accuracy: 0.9570 - val_loss: 1.2998 - val_accuracy: 0.7900\n"
          ]
        }
      ]
    },
    {
      "cell_type": "code",
      "source": [
        "from matplotlib import pyplot as plt\n",
        "\n",
        "loss = history.history[\"loss\"]\n",
        "val_loss = history.history[\"val_loss\"]\n",
        "epochs = range(1, len(loss) + 1)\n",
        "plt.plot(epochs, loss, \"bo\", label=\"Training loss\")\n",
        "plt.plot(epochs, val_loss, \"b\", label=\"Validation loss\")\n",
        "plt.title(\"Training and validation loss\")\n",
        "plt.xlabel(\"Epochs\")\n",
        "plt.ylabel(\"Loss\")\n",
        "plt.legend()\n",
        "plt.show()"
      ],
      "metadata": {
        "colab": {
          "base_uri": "https://localhost:8080/",
          "height": 295
        },
        "id": "9ZmhPJWFtpHJ",
        "outputId": "c5cccac5-f2ee-4170-93fc-2f9aff9ba3c9"
      },
      "execution_count": 101,
      "outputs": [
        {
          "output_type": "display_data",
          "data": {
            "text/plain": [
              "<Figure size 432x288 with 1 Axes>"
            ],
            "image/png": "[encoded data removed]"
          },
          "metadata": {
            "needs_background": "light"
          }
        }
      ]
    },
    {
      "cell_type": "code",
      "source": [
        "from matplotlib import pyplot as plt\n",
        "\n",
        "plt.clf()\n",
        "acc = history.history[\"accuracy\"]\n",
        "val_acc = history.history[\"val_accuracy\"]\n",
        "plt.plot(epochs, acc, \"bo\", label=\"Training accuracy\")\n",
        "plt.plot(epochs, val_acc, \"b\", label=\"Validation accuracy\")\n",
        "plt.title(\"Training and validation accuracy\")\n",
        "plt.xlabel(\"Epochs\")\n",
        "plt.ylabel(\"Accuracy\")\n",
        "plt.legend()\n",
        "plt.show()"
      ],
      "metadata": {
        "colab": {
          "base_uri": "https://localhost:8080/",
          "height": 295
        },
        "id": "m4TCF7r0tuim",
        "outputId": "8c4a3294-dced-4592-bd33-6f9e0ca043fa"
      },
      "execution_count": 102,
      "outputs": [
        {
          "output_type": "display_data",
          "data": {
            "text/plain": [
              "<Figure size 432x288 with 1 Axes>"
            ],
            "image/png": "[encoded data removed]"
          },
          "metadata": {
            "needs_background": "light"
          }
        }
      ]
    },
    {
      "cell_type": "code",
      "source": [
        "model = keras.Sequential([\n",
        "    layers.Dense(64, activation=\"relu\"),\n",
        "    layers.Dense(64, activation=\"relu\"),\n",
        "    layers.Dense(46, activation=\"softmax\")\n",
        "])\n",
        "model.compile(optimizer=\"rmsprop\",\n",
        "              loss=\"categorical_crossentropy\",\n",
        "              metrics=[\"accuracy\"])\n",
        "model.fit(x_train,\n",
        "          y_train,\n",
        "          epochs=9,\n",
        "          batch_size=512)\n",
        "results = model.evaluate(x_test, y_test)"
      ],
      "metadata": {
        "colab": {
          "base_uri": "https://localhost:8080/"
        },
        "id": "olMHPTapuF4T",
        "outputId": "bed40233-851b-48d5-946a-0521c2dd53c4"
      },
      "execution_count": 103,
      "outputs": [
        {
          "output_type": "stream",
          "name": "stdout",
          "text": [
            "Epoch 1/9\n",
            "18/18 [==============================] - 1s 46ms/step - loss: 2.4448 - accuracy: 0.5429\n",
            "Epoch 2/9\n",
            "18/18 [==============================] - 1s 47ms/step - loss: 1.3233 - accuracy: 0.7170\n",
            "Epoch 3/9\n",
            "18/18 [==============================] - 1s 46ms/step - loss: 0.9858 - accuracy: 0.7886\n",
            "Epoch 4/9\n",
            "18/18 [==============================] - 1s 46ms/step - loss: 0.7639 - accuracy: 0.8371\n",
            "Epoch 5/9\n",
            "18/18 [==============================] - 1s 46ms/step - loss: 0.6020 - accuracy: 0.8735\n",
            "Epoch 6/9\n",
            "18/18 [==============================] - 1s 46ms/step - loss: 0.4763 - accuracy: 0.9009\n",
            "Epoch 7/9\n",
            "18/18 [==============================] - 1s 46ms/step - loss: 0.3825 - accuracy: 0.9207\n",
            "Epoch 8/9\n",
            "18/18 [==============================] - 1s 46ms/step - loss: 0.3103 - accuracy: 0.9329\n",
            "Epoch 9/9\n",
            "18/18 [==============================] - 1s 48ms/step - loss: 0.2613 - accuracy: 0.9437\n",
            "71/71 [==============================] - 0s 3ms/step - loss: 0.9297 - accuracy: 0.7974\n"
          ]
        }
      ]
    },
    {
      "cell_type": "code",
      "source": [
        "results\n"
      ],
      "metadata": {
        "colab": {
          "base_uri": "https://localhost:8080/"
        },
        "id": "JJnQH5f8uOKf",
        "outputId": "be1d3bdb-b34a-4c2e-a934-9c04b3625065"
      },
      "execution_count": 104,
      "outputs": [
        {
          "output_type": "execute_result",
          "data": {
            "text/plain": [
              "[0.9297046661376953, 0.7974176406860352]"
            ]
          },
          "metadata": {},
          "execution_count": 104
        }
      ]
    },
    {
      "cell_type": "code",
      "source": [
        "import copy\n",
        "test_labels_copy = copy.copy(test_labels)\n",
        "np.random.shuffle(test_labels_copy)\n",
        "hits_array = np.array(test_labels) == np.array(test_labels_copy)\n",
        "hits_array.mean()\n"
      ],
      "metadata": {
        "colab": {
          "base_uri": "https://localhost:8080/"
        },
        "id": "4nyR9-JbuR8v",
        "outputId": "a712b83e-9a2a-451b-8ae9-6a2fc66e1a99"
      },
      "execution_count": 105,
      "outputs": [
        {
          "output_type": "execute_result",
          "data": {
            "text/plain": [
              "0.18076580587711488"
            ]
          },
          "metadata": {},
          "execution_count": 105
        }
      ]
    },
    {
      "cell_type": "code",
      "source": [
        "predictions = model.predict(x_test)"
      ],
      "metadata": {
        "id": "9MZUmFYFuZkM"
      },
      "execution_count": 106,
      "outputs": []
    },
    {
      "cell_type": "code",
      "source": [
        "predictions[0].shape\n"
      ],
      "metadata": {
        "colab": {
          "base_uri": "https://localhost:8080/"
        },
        "id": "jOQGvxkJuc5E",
        "outputId": "63bfcf96-77ae-48c3-ad6d-eb1e158b5bf8"
      },
      "execution_count": 107,
      "outputs": [
        {
          "output_type": "execute_result",
          "data": {
            "text/plain": [
              "(46,)"
            ]
          },
          "metadata": {},
          "execution_count": 107
        }
      ]
    },
    {
      "cell_type": "code",
      "source": [
        "np.sum(predictions[0])"
      ],
      "metadata": {
        "colab": {
          "base_uri": "https://localhost:8080/"
        },
        "id": "m6GnwodAuhhr",
        "outputId": "c17315c1-a1a4-451f-a9f6-ae41c0e202f1"
      },
      "execution_count": 108,
      "outputs": [
        {
          "output_type": "execute_result",
          "data": {
            "text/plain": [
              "1.0000001"
            ]
          },
          "metadata": {},
          "execution_count": 108
        }
      ]
    },
    {
      "cell_type": "code",
      "source": [
        "np.argmax(predictions[0])\n"
      ],
      "metadata": {
        "colab": {
          "base_uri": "https://localhost:8080/"
        },
        "id": "H9t9TBbyunsR",
        "outputId": "7658dee9-9e14-4b6b-d9be-dfe9b30ef4d0"
      },
      "execution_count": 109,
      "outputs": [
        {
          "output_type": "execute_result",
          "data": {
            "text/plain": [
              "3"
            ]
          },
          "metadata": {},
          "execution_count": 109
        }
      ]
    },
    {
      "cell_type": "code",
      "source": [
        "y_train = np.array(train_labels)\n",
        "y_test = np.array(test_labels)"
      ],
      "metadata": {
        "id": "QEEZeB5jusV5"
      },
      "execution_count": 110,
      "outputs": []
    },
    {
      "cell_type": "code",
      "source": [
        "model.compile(optimizer=\"rmsprop\",\n",
        "              loss=\"sparse_categorical_crossentropy\",\n",
        "              metrics=[\"accuracy\"])"
      ],
      "metadata": {
        "id": "BR5xDd0euvNB"
      },
      "execution_count": 111,
      "outputs": []
    },
    {
      "cell_type": "code",
      "source": [
        "model = keras.Sequential([\n",
        "    layers.Dense(64, activation=\"relu\"),\n",
        "    layers.Dense(4, activation=\"relu\"),\n",
        "    layers.Dense(46, activation=\"softmax\")\n",
        "])\n",
        "model.compile(optimizer=\"rmsprop\",\n",
        "              loss=\"categorical_crossentropy\",\n",
        "              metrics=[\"accuracy\"])\n",
        "model.fit(partial_x_train,\n",
        "          partial_y_train,\n",
        "          epochs=20,\n",
        "          batch_size=128,\n",
        "          validation_data=(x_val, y_val))"
      ],
      "metadata": {
        "colab": {
          "base_uri": "https://localhost:8080/"
        },
        "id": "6BeXPqosux_B",
        "outputId": "efc900be-a362-44ed-a8ca-1ca0d929581f"
      },
      "execution_count": 112,
      "outputs": [
        {
          "output_type": "stream",
          "name": "stdout",
          "text": [
            "Epoch 1/20\n",
            "63/63 [==============================] - 2s 26ms/step - loss: 3.0485 - accuracy: 0.3076 - val_loss: 2.2558 - val_accuracy: 0.5710\n",
            "Epoch 2/20\n",
            "63/63 [==============================] - 1s 23ms/step - loss: 1.8360 - accuracy: 0.6060 - val_loss: 1.6583 - val_accuracy: 0.6050\n",
            "Epoch 3/20\n",
            "63/63 [==============================] - 1s 24ms/step - loss: 1.4202 - accuracy: 0.6477 - val_loss: 1.4672 - val_accuracy: 0.6480\n",
            "Epoch 4/20\n",
            "63/63 [==============================] - 2s 34ms/step - loss: 1.2103 - accuracy: 0.7031 - val_loss: 1.3892 - val_accuracy: 0.6890\n",
            "Epoch 5/20\n",
            "63/63 [==============================] - 2s 25ms/step - loss: 1.0702 - accuracy: 0.7311 - val_loss: 1.3264 - val_accuracy: 0.7040\n",
            "Epoch 6/20\n",
            "63/63 [==============================] - 1s 20ms/step - loss: 0.9728 - accuracy: 0.7466 - val_loss: 1.3279 - val_accuracy: 0.6980\n",
            "Epoch 7/20\n",
            "63/63 [==============================] - 1s 20ms/step - loss: 0.8946 - accuracy: 0.7601 - val_loss: 1.3337 - val_accuracy: 0.6970\n",
            "Epoch 8/20\n",
            "63/63 [==============================] - 1s 21ms/step - loss: 0.8318 - accuracy: 0.7686 - val_loss: 1.3376 - val_accuracy: 0.7040\n",
            "Epoch 9/20\n",
            "63/63 [==============================] - 2s 25ms/step - loss: 0.7756 - accuracy: 0.7766 - val_loss: 1.3437 - val_accuracy: 0.7130\n",
            "Epoch 10/20\n",
            "63/63 [==============================] - 1s 20ms/step - loss: 0.7260 - accuracy: 0.7854 - val_loss: 1.4197 - val_accuracy: 0.7060\n",
            "Epoch 11/20\n",
            "63/63 [==============================] - 1s 19ms/step - loss: 0.6826 - accuracy: 0.8014 - val_loss: 1.4161 - val_accuracy: 0.7150\n",
            "Epoch 12/20\n",
            "63/63 [==============================] - 1s 19ms/step - loss: 0.6424 - accuracy: 0.8197 - val_loss: 1.4343 - val_accuracy: 0.7130\n",
            "Epoch 13/20\n",
            "63/63 [==============================] - 1s 19ms/step - loss: 0.6074 - accuracy: 0.8287 - val_loss: 1.4880 - val_accuracy: 0.7080\n",
            "Epoch 14/20\n",
            "63/63 [==============================] - 1s 20ms/step - loss: 0.5740 - accuracy: 0.8384 - val_loss: 1.5850 - val_accuracy: 0.7120\n",
            "Epoch 15/20\n",
            "63/63 [==============================] - 1s 19ms/step - loss: 0.5414 - accuracy: 0.8494 - val_loss: 1.5789 - val_accuracy: 0.7140\n",
            "Epoch 16/20\n",
            "63/63 [==============================] - 1s 19ms/step - loss: 0.5171 - accuracy: 0.8578 - val_loss: 1.6253 - val_accuracy: 0.7120\n",
            "Epoch 17/20\n",
            "63/63 [==============================] - 1s 19ms/step - loss: 0.4918 - accuracy: 0.8629 - val_loss: 1.6865 - val_accuracy: 0.7090\n",
            "Epoch 18/20\n",
            "63/63 [==============================] - 1s 19ms/step - loss: 0.4738 - accuracy: 0.8680 - val_loss: 1.7243 - val_accuracy: 0.7100\n",
            "Epoch 19/20\n",
            "63/63 [==============================] - 1s 20ms/step - loss: 0.4542 - accuracy: 0.8703 - val_loss: 1.7889 - val_accuracy: 0.7130\n",
            "Epoch 20/20\n",
            "63/63 [==============================] - 1s 20ms/step - loss: 0.4365 - accuracy: 0.8752 - val_loss: 1.8686 - val_accuracy: 0.7120\n"
          ]
        },
        {
          "output_type": "execute_result",
          "data": {
            "text/plain": [
              "<keras.callbacks.History at 0x7f97ce87e950>"
            ]
          },
          "metadata": {},
          "execution_count": 112
        }
      ]
    },
    {
      "cell_type": "code",
      "source": [
        "from matplotlib import pyplot as plt\n",
        "\n",
        "loss = history.history[\"loss\"]\n",
        "val_loss = history.history[\"val_loss\"]\n",
        "epochs = range(1, len(loss) + 1)\n",
        "plt.plot(epochs, loss, \"bo\", label=\"Training loss\")\n",
        "plt.plot(epochs, val_loss, \"b\", label=\"Validation loss\")\n",
        "plt.title(\"Training and validation loss\")\n",
        "plt.xlabel(\"Epochs\")\n",
        "plt.ylabel(\"Loss\")\n",
        "plt.legend()\n",
        "plt.show()"
      ],
      "metadata": {
        "colab": {
          "base_uri": "https://localhost:8080/",
          "height": 295
        },
        "id": "92Vbmza8u5fd",
        "outputId": "c779c6e4-9f00-4707-87c1-1a102cf88025"
      },
      "execution_count": 113,
      "outputs": [
        {
          "output_type": "display_data",
          "data": {
            "text/plain": [
              "<Figure size 432x288 with 1 Axes>"
            ],
            "image/png": "[encoded data removed]"
          },
          "metadata": {
            "needs_background": "light"
          }
        }
      ]
    },
    {
      "cell_type": "code",
      "source": [
        "from matplotlib import pyplot as plt\n",
        "\n",
        "plt.clf()\n",
        "acc = history.history[\"accuracy\"]\n",
        "val_acc = history.history[\"val_accuracy\"]\n",
        "plt.plot(epochs, acc, \"bo\", label=\"Training accuracy\")\n",
        "plt.plot(epochs, val_acc, \"b\", label=\"Validation accuracy\")\n",
        "plt.title(\"Training and validation accuracy\")\n",
        "plt.xlabel(\"Epochs\")\n",
        "plt.ylabel(\"Accuracy\")\n",
        "plt.legend()\n",
        "plt.show()"
      ],
      "metadata": {
        "colab": {
          "base_uri": "https://localhost:8080/",
          "height": 295
        },
        "id": "m0eXRiF1vCxF",
        "outputId": "67904595-4289-4e0e-b74e-395a98b31238"
      },
      "execution_count": 114,
      "outputs": [
        {
          "output_type": "display_data",
          "data": {
            "text/plain": [
              "<Figure size 432x288 with 1 Axes>"
            ],
            "image/png": "[encoded data removed]"
          },
          "metadata": {
            "needs_background": "light"
          }
        }
      ]
    },
    {
      "cell_type": "code",
      "source": [
        "results"
      ],
      "metadata": {
        "colab": {
          "base_uri": "https://localhost:8080/"
        },
        "id": "F7qYtb4fvJHy",
        "outputId": "e724b9b2-e1a1-401a-c64e-eea62dbfdd09"
      },
      "execution_count": 115,
      "outputs": [
        {
          "output_type": "execute_result",
          "data": {
            "text/plain": [
              "[0.9297046661376953, 0.7974176406860352]"
            ]
          },
          "metadata": {},
          "execution_count": 115
        }
      ]
    },
    {
      "cell_type": "code",
      "source": [
        "import copy\n",
        "test_labels_copy = copy.copy(test_labels)\n",
        "np.random.shuffle(test_labels_copy)\n",
        "hits_array = np.array(test_labels) == np.array(test_labels_copy)\n",
        "hits_array.mean()"
      ],
      "metadata": {
        "colab": {
          "base_uri": "https://localhost:8080/"
        },
        "id": "nnIjTA4EvJMq",
        "outputId": "e970b5b6-3468-4651-9949-8458dbe38198"
      },
      "execution_count": 116,
      "outputs": [
        {
          "output_type": "execute_result",
          "data": {
            "text/plain": [
              "0.19367764915405164"
            ]
          },
          "metadata": {},
          "execution_count": 116
        }
      ]
    },
    {
      "cell_type": "code",
      "source": [
        "predictions = model.predict(x_test)"
      ],
      "metadata": {
        "id": "BfkK-5PWvSr7"
      },
      "execution_count": 118,
      "outputs": []
    },
    {
      "cell_type": "code",
      "source": [],
      "metadata": {
        "id": "A2KqPAoMvXzz"
      },
      "execution_count": null,
      "outputs": []
    }
  ]
}